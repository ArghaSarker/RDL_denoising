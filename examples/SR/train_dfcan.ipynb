{
 "cells": [
  {
   "cell_type": "code",
   "execution_count": 2,
   "id": "dd016cb8",
   "metadata": {},
   "outputs": [
    {
     "ename": "ModuleNotFoundError",
     "evalue": "No module named 'rdl_denoising.loss_functions'",
     "output_type": "error",
     "traceback": [
      "\u001b[0;31m---------------------------------------------------------------------------\u001b[0m",
      "\u001b[0;31mModuleNotFoundError\u001b[0m                       Traceback (most recent call last)",
      "Cell \u001b[0;32mIn[2], line 8\u001b[0m\n\u001b[1;32m      6\u001b[0m \u001b[38;5;66;03m# from models import DFCAN\u001b[39;00m\n\u001b[1;32m      7\u001b[0m \u001b[38;5;28;01mfrom\u001b[39;00m \u001b[38;5;21;01mrdl_denoising\u001b[39;00m\u001b[38;5;21;01m.\u001b[39;00m\u001b[38;5;21;01mmodel_DFCAN\u001b[39;00m \u001b[38;5;28;01mimport\u001b[39;00m DFCAN\n\u001b[0;32m----> 8\u001b[0m \u001b[38;5;28;01mfrom\u001b[39;00m \u001b[38;5;21;01mrdl_denoising\u001b[39;00m\u001b[38;5;21;01m.\u001b[39;00m\u001b[38;5;21;01mloss_functions\u001b[39;00m \u001b[38;5;28;01mimport\u001b[39;00m mse_ssim, mse_ssim_psnr, mae_ssim\n\u001b[1;32m      9\u001b[0m \u001b[38;5;28;01mimport\u001b[39;00m \u001b[38;5;21;01mtensorflow\u001b[39;00m \u001b[38;5;28;01mas\u001b[39;00m \u001b[38;5;21;01mtf\u001b[39;00m\n\u001b[1;32m     10\u001b[0m \u001b[38;5;28;01mfrom\u001b[39;00m \u001b[38;5;21;01mpathlib\u001b[39;00m \u001b[38;5;28;01mimport\u001b[39;00m Path\n",
      "\u001b[0;31mModuleNotFoundError\u001b[0m: No module named 'rdl_denoising.loss_functions'"
     ]
    }
   ],
   "source": [
    "\n",
    "import datetime\n",
    "import os\n",
    "from csbdeep.io import load_training_data\n",
    "from csbdeep.utils import axes_dict, plot_some,plot_history\n",
    "import matplotlib.pyplot as plt\n",
    "# from models import DFCAN\n",
    "from rdl_denoising.model_DFCAN import DFCAN\n",
    "from rdl_denoising.loss_functions import mse_ssim, mse_ssim_psnr, mae_ssim\n",
    "import tensorflow as tf\n",
    "from pathlib import Path\n",
    "from tensorflow.keras.optimizers import Adam\n",
    "from tensorflow.keras import callbacks\n",
    "from tensorflow.keras.models import load_model\n",
    "from wandb.integration.keras import WandbMetricsLogger, WandbEvalCallback\n",
    "from tensorflow.keras.callbacks import TensorBoard\n",
    "from skimage.metrics import peak_signal_noise_ratio as psnr, mean_squared_error as mse, structural_similarity as ssim, normalized_root_mse as nrmse_sklearn\n",
    "import numpy as np\n",
    "import wandb\n",
    "# from tensorflow.image import psnr, ssim\n",
    "from skimage.metrics import mean_squared_error\n",
    "from skimage.metrics import normalized_root_mse as nrmse_sklearn\n",
    "from csbdeep.data.generate import norm_percentiles\n",
    "from csbdeep.utils import normalize\n",
    "import tifffile\n",
    "import sys\n",
    "import argparse\n",
    "import csv"
   ]
  },
  {
   "cell_type": "code",
   "execution_count": null,
   "id": "bdb18859",
   "metadata": {},
   "outputs": [],
   "source": [
    "%pip install git+https://github.com/ArghaSarker/RDL_denoising.git"
   ]
  }
 ],
 "metadata": {
  "kernelspec": {
   "display_name": "hpc_thesis",
   "language": "python",
   "name": "thesis"
  },
  "language_info": {
   "codemirror_mode": {
    "name": "ipython",
    "version": 3
   },
   "file_extension": ".py",
   "mimetype": "text/x-python",
   "name": "python",
   "nbconvert_exporter": "python",
   "pygments_lexer": "ipython3",
   "version": "3.10.14"
  }
 },
 "nbformat": 4,
 "nbformat_minor": 5
}
