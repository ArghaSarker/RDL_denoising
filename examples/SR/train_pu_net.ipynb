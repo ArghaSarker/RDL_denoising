{
 "cells": [
  {
   "cell_type": "markdown",
   "id": "5f8df5e8",
   "metadata": {},
   "source": [
    "## For training Projection Upsampling network\n",
    "- Please follwo the instruction here: https://github.com/ArghaSarker/projection_upsampling_network"
   ]
  }
 ],
 "metadata": {
  "language_info": {
   "name": "python"
  }
 },
 "nbformat": 4,
 "nbformat_minor": 5
}
